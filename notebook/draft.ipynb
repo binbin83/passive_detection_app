{
 "cells": [
  {
   "cell_type": "code",
   "execution_count": 5,
   "metadata": {},
   "outputs": [],
   "source": [
    "import pandas as pd\n",
    "import sys\n",
    "sys.path.insert(0,\"./..\")\n",
    "from src.PassivePySrcFR.PassivePy import PassivePyAnalyzer\n",
    "from src import analysis_passive\n",
    "from annotated_text import annotated_text\n",
    "analyzer = PassivePyAnalyzer(spacy_model= \"fr_core_news_lg\")"
   ]
  },
  {
   "cell_type": "code",
   "execution_count": 7,
   "metadata": {},
   "outputs": [],
   "source": [
    "import spacy\n",
    "from spacy.matcher import Matcher\n",
    "nlp = spacy.load(\"fr_core_news_lg\")\n",
    "matcher = Matcher(nlp.vocab)\n",
    "r = [\n",
    "        {\"TAG\":\"ADJ\", \"TEXT\" : {\"REGEX\": \"\\b(\\w*(ible|able))\\b\"}}, # adjectif se finnissant par ible ou able\n",
    "    ]\n",
    "matcher.add(\"test\", [r], greedy='LONGEST')"
   ]
  },
  {
   "cell_type": "code",
   "execution_count": 18,
   "metadata": {},
   "outputs": [
    {
     "name": "stdout",
     "output_type": "stream",
     "text": [
      "(1618900948208871284, 3, 4)\n"
     ]
    }
   ],
   "source": [
    "matcher = Matcher(nlp.vocab)\n",
    "r = [\n",
    "        {\"TAG\":\"ADJ\",\"TEXT\" : {\"REGEX\": r\"\\b(\\w*(ible|able))\\b\"}}, # adjectif se finnissant par ible ou able\n",
    "    ]\n",
    "matcher.add(\"test\", [r], greedy='LONGEST')\n",
    "\n",
    "doc = nlp(\"cette ile est visible depuis l'ocean\")\n",
    "for match in matcher(doc):\n",
    "    print(match)"
   ]
  },
  {
   "cell_type": "code",
   "execution_count": 8,
   "metadata": {},
   "outputs": [],
   "source": [
    "data = pd.DataFrame()\n",
    "data['text'] =  [\"elle a été déterminée et formée ! \",\n",
    "\"accusé par la police, il fut condamné a 5 ans de prison ferme\"\n",
    ",\"ma mère a été élevée par une euh une une vieille dame euh à euh dans l'Allier\"\n",
    ",\"puis on a été soutenu par un monsieur aussi c'est monsieur NPERS…\",\n",
    "\"la la République du Centre a été rachetée euh par un journal euh je voudrais pas dire de bêtises je crois que c'est Clermont-Ferrand Clermont enfin…\",\n",
    "\"alors il y a des écoles qui sont faites exclusivement par des religieuses ou certains par des prêtres mais alors maintenant ils ont beaucoup d'institutrices euh civiles qui sont dedans\",\n",
    "\"donc il est il est payé quoi bah c'est super\",\n",
    "\"à à mon avis ça a déjà été fait mais au niveau euh professionnel au niveau du travail je crois que ça se développe ouais\",\n",
    "\"quand tu habites dans le centre d'Orléans euh c'est quand même réservé à un public qui a … un minimum d'argent\",\n",
    "\"parce que même avant on a été coincé euh pendant pas mal d'années euh sans voiture et on travaillait pas\",\"tu es à peine payé et tout quoi\",\n",
    "\"tout à l'heure j'avais été inter- la dernière fois que j'avais été interviewée c'était pour la la construction de la nouvelle fac\",\n",
    "\"donc vous êtes  envoyée ponctuellement sur des sur des sur des sites sites\",\n",
    "\"d'accord je devais pas rester à Orléans je devais juste être formée pendant un an et partir sur Lille\",\n",
    "\"je trouve que pour le moment euh c'est pas encore trop bien aménagé euh pour les vélos hein vélos\",\n",
    "\"Les adultes quand tu habites dans le centre d'Orléans euh c'est quand même réservé à un public qui a hm ouais ouais bien sûr ouais un minimum d'argent\"\n",
    "\"des  des échanges qui qui se font pas par téléphone\"]"
   ]
  },
  {
   "cell_type": "code",
   "execution_count": 3,
   "metadata": {},
   "outputs": [
    {
     "name": "stdout",
     "output_type": "stream",
     "text": [
      "Detecting Sentences...\n",
      "Starting to find passives...\n"
     ]
    }
   ],
   "source": [
    "data, cols = analysis_passive.load_passive_features(data, analyzer)"
   ]
  },
  {
   "cell_type": "code",
   "execution_count": 2,
   "metadata": {},
   "outputs": [
    {
     "name": "stdout",
     "output_type": "stream",
     "text": [
      "été attaqué\n",
      "rule:  passif_tronqué\n",
      "été attaqué par\n",
      "rule:  passif_canonique\n",
      "attaqué par des loups\n",
      "rule:  passif_impersonel\n"
     ]
    }
   ],
   "source": [
    "text = \"J'ai été attaqué par des loups !\"\n",
    "samples = analyzer.print_matches(text)\n",
    "doc = analyzer.prepare_visualisation(text)\n",
    "\n"
   ]
  },
  {
   "cell_type": "code",
   "execution_count": 4,
   "metadata": {},
   "outputs": [
    {
     "data": {
      "text/html": [
       "<span class=\"tex2jax_ignore\"><div class=\"spans\" style=\"line-height: 2.5; direction: ltr\">J' ai \n",
       "<span style=\"font-weight: bold; display: inline-block; position: relative; height: 77px;\">\n",
       "    été\n",
       "    \n",
       "<span style=\"background: #ddd; top: 40px; height: 4px; left: -1px; width: calc(100% + 2px); position: absolute;\">\n",
       "</span>\n",
       "\n",
       "<span style=\"background: #ddd; top: 57px; height: 4px; left: -1px; width: calc(100% + 2px); position: absolute;\">\n",
       "</span>\n",
       "\n",
       "    \n",
       "<span style=\"background: #ddd; top: 40px; height: 4px; border-top-left-radius: 3px; border-bottom-left-radius: 3px; left: -1px; width: calc(100% + 2px); position: absolute;\">\n",
       "    <span style=\"background: #ddd; z-index: 10; color: #000; top: -0.5em; padding: 2px 3px; position: absolute; font-size: 0.6em; font-weight: bold; line-height: 1; border-radius: 3px\">\n",
       "        passif_canonique\n",
       "    </span>\n",
       "</span>\n",
       "\n",
       "\n",
       "<span style=\"background: #ddd; top: 57px; height: 4px; border-top-left-radius: 3px; border-bottom-left-radius: 3px; left: -1px; width: calc(100% + 2px); position: absolute;\">\n",
       "    <span style=\"background: #ddd; z-index: 10; color: #000; top: -0.5em; padding: 2px 3px; position: absolute; font-size: 0.6em; font-weight: bold; line-height: 1; border-radius: 3px\">\n",
       "        passif_tronqué\n",
       "    </span>\n",
       "</span>\n",
       "\n",
       "\n",
       "</span>\n",
       "\n",
       "<span style=\"font-weight: bold; display: inline-block; position: relative; height: 94px;\">\n",
       "    attaqué\n",
       "    \n",
       "<span style=\"background: #ddd; top: 40px; height: 4px; left: -1px; width: calc(100% + 2px); position: absolute;\">\n",
       "</span>\n",
       "\n",
       "<span style=\"background: #ddd; top: 57px; height: 4px; left: -1px; width: calc(100% + 2px); position: absolute;\">\n",
       "</span>\n",
       "\n",
       "<span style=\"background: #ddd; top: 74px; height: 4px; left: -1px; width: calc(100% + 2px); position: absolute;\">\n",
       "</span>\n",
       "\n",
       "    \n",
       "<span style=\"background: #ddd; top: 74px; height: 4px; border-top-left-radius: 3px; border-bottom-left-radius: 3px; left: -1px; width: calc(100% + 2px); position: absolute;\">\n",
       "    <span style=\"background: #ddd; z-index: 10; color: #000; top: -0.5em; padding: 2px 3px; position: absolute; font-size: 0.6em; font-weight: bold; line-height: 1; border-radius: 3px\">\n",
       "        passif_impersonel\n",
       "    </span>\n",
       "</span>\n",
       "\n",
       "\n",
       "</span>\n",
       "\n",
       "<span style=\"font-weight: bold; display: inline-block; position: relative; height: 77px;\">\n",
       "    par\n",
       "    \n",
       "<span style=\"background: #ddd; top: 40px; height: 4px; left: -1px; width: calc(100% + 2px); position: absolute;\">\n",
       "</span>\n",
       "\n",
       "<span style=\"background: #ddd; top: 74px; height: 4px; left: -1px; width: calc(100% + 2px); position: absolute;\">\n",
       "</span>\n",
       "\n",
       "    \n",
       "</span>\n",
       "\n",
       "<span style=\"font-weight: bold; display: inline-block; position: relative; height: 60px;\">\n",
       "    des\n",
       "    \n",
       "<span style=\"background: #ddd; top: 74px; height: 4px; left: -1px; width: calc(100% + 2px); position: absolute;\">\n",
       "</span>\n",
       "\n",
       "    \n",
       "</span>\n",
       "\n",
       "<span style=\"font-weight: bold; display: inline-block; position: relative; height: 60px;\">\n",
       "    loups\n",
       "    \n",
       "<span style=\"background: #ddd; top: 74px; height: 4px; left: -1px; width: calc(100% + 2px); position: absolute;\">\n",
       "</span>\n",
       "\n",
       "    \n",
       "</span>\n",
       "! </div></span>"
      ],
      "text/plain": [
       "<IPython.core.display.HTML object>"
      ]
     },
     "metadata": {},
     "output_type": "display_data"
    },
    {
     "ename": "AttributeError",
     "evalue": "'NoneType' object has no attribute 'replace'",
     "output_type": "error",
     "traceback": [
      "\u001b[0;31m---------------------------------------------------------------------------\u001b[0m",
      "\u001b[0;31mAttributeError\u001b[0m                            Traceback (most recent call last)",
      "Cell \u001b[0;32mIn[4], line 3\u001b[0m\n\u001b[1;32m      1\u001b[0m \u001b[39mfrom\u001b[39;00m \u001b[39mspacy_streamlit\u001b[39;00m \u001b[39mimport\u001b[39;00m visualize_spans\n\u001b[0;32m----> 3\u001b[0m visualize_spans(doc, spans_key\u001b[39m=\u001b[39;49m\u001b[39m\"\u001b[39;49m\u001b[39mpassive\u001b[39;49m\u001b[39m\"\u001b[39;49m) \u001b[39m#displacy_options={\"colors\": color_dict})\u001b[39;00m\n",
      "File \u001b[0;32m~/env/app_passive/lib/python3.8/site-packages/spacy_streamlit/visualizer.py:326\u001b[0m, in \u001b[0;36mvisualize_spans\u001b[0;34m(doc, spans_key, attrs, show_table, title, manual, displacy_options)\u001b[0m\n\u001b[1;32m    317\u001b[0m         st\u001b[39m.\u001b[39mwarning(\n\u001b[1;32m    318\u001b[0m             \u001b[39m\"\u001b[39m\u001b[39mWhen the parameter \u001b[39m\u001b[39m'\u001b[39m\u001b[39mmanual\u001b[39m\u001b[39m'\u001b[39m\u001b[39m is set to True, the parameter \u001b[39m\u001b[39m'\u001b[39m\u001b[39mdoc\u001b[39m\u001b[39m'\u001b[39m\u001b[39m must be of type \u001b[39m\u001b[39m'\u001b[39m\u001b[39mDict\u001b[39m\u001b[39m'\u001b[39m\u001b[39m, not \u001b[39m\u001b[39m'\u001b[39m\u001b[39mspacy.tokens.Doc\u001b[39m\u001b[39m'\u001b[39m\u001b[39m.\u001b[39m\u001b[39m\"\u001b[39m\n\u001b[1;32m    319\u001b[0m         )\n\u001b[1;32m    320\u001b[0m html \u001b[39m=\u001b[39m displacy\u001b[39m.\u001b[39mrender(\n\u001b[1;32m    321\u001b[0m     doc,\n\u001b[1;32m    322\u001b[0m     style\u001b[39m=\u001b[39m\u001b[39m\"\u001b[39m\u001b[39mspan\u001b[39m\u001b[39m\"\u001b[39m,\n\u001b[1;32m    323\u001b[0m     options\u001b[39m=\u001b[39mdisplacy_options,\n\u001b[1;32m    324\u001b[0m     manual\u001b[39m=\u001b[39mmanual,\n\u001b[1;32m    325\u001b[0m )\n\u001b[0;32m--> 326\u001b[0m st\u001b[39m.\u001b[39mwrite(\u001b[39mf\u001b[39m\u001b[39m\"\u001b[39m\u001b[39m{\u001b[39;00mget_html(html)\u001b[39m}\u001b[39;00m\u001b[39m\"\u001b[39m, unsafe_allow_html\u001b[39m=\u001b[39m\u001b[39mTrue\u001b[39;00m)\n\u001b[1;32m    328\u001b[0m \u001b[39mif\u001b[39;00m show_table:\n\u001b[1;32m    329\u001b[0m     data \u001b[39m=\u001b[39m [\n\u001b[1;32m    330\u001b[0m         [\u001b[39mstr\u001b[39m(\u001b[39mgetattr\u001b[39m(span, attr)) \u001b[39mfor\u001b[39;00m attr \u001b[39min\u001b[39;00m attrs]\n\u001b[1;32m    331\u001b[0m         \u001b[39mfor\u001b[39;00m span \u001b[39min\u001b[39;00m doc\u001b[39m.\u001b[39mspans[spans_key]\n\u001b[1;32m    332\u001b[0m     ]\n",
      "File \u001b[0;32m~/env/app_passive/lib/python3.8/site-packages/spacy_streamlit/util.py:30\u001b[0m, in \u001b[0;36mget_html\u001b[0;34m(html)\u001b[0m\n\u001b[1;32m     28\u001b[0m WRAPPER \u001b[39m=\u001b[39m \u001b[39m\"\"\"\u001b[39m\u001b[39m<div style=\u001b[39m\u001b[39m\"\u001b[39m\u001b[39moverflow-x: auto; border: 1px solid #e6e9ef; border-radius: 0.25rem; padding: 1rem; margin-bottom: 2.5rem\u001b[39m\u001b[39m\"\u001b[39m\u001b[39m>\u001b[39m\u001b[39m{}\u001b[39;00m\u001b[39m</div>\u001b[39m\u001b[39m\"\"\"\u001b[39m\n\u001b[1;32m     29\u001b[0m \u001b[39m# Newlines seem to mess with the rendering\u001b[39;00m\n\u001b[0;32m---> 30\u001b[0m html \u001b[39m=\u001b[39m html\u001b[39m.\u001b[39;49mreplace(\u001b[39m\"\u001b[39m\u001b[39m\\n\u001b[39;00m\u001b[39m\"\u001b[39m, \u001b[39m\"\u001b[39m\u001b[39m \u001b[39m\u001b[39m\"\u001b[39m)\n\u001b[1;32m     31\u001b[0m \u001b[39mreturn\u001b[39;00m WRAPPER\u001b[39m.\u001b[39mformat(html)\n",
      "\u001b[0;31mAttributeError\u001b[0m: 'NoneType' object has no attribute 'replace'"
     ]
    }
   ],
   "source": [
    "from spacy_streamlit import visualize_spans\n",
    "\n",
    "visualize_spans(doc, spans_key=\"passive\",displacy_options={\"colors\": color_dict})"
   ]
  },
  {
   "cell_type": "code",
   "execution_count": 9,
   "metadata": {},
   "outputs": [],
   "source": [
    "import spacy\n",
    "nlp = spacy.load(\"fr_core_news_lg\")\n",
    "doc = nlp(\"je suis un exemple de text\")"
   ]
  },
  {
   "cell_type": "code",
   "execution_count": 48,
   "metadata": {},
   "outputs": [],
   "source": [
    "doc = nlp(\"elle a été déterminée et formée ! La pomme a été mangé par le chat\")\n",
    "ids = [(elt[1],elt[2]) for elt in passivepy.matcher(doc)]\n",
    "samples = []\n",
    "\n",
    "color_dict = {\n",
    "    \"passif_tronqué\": \"#8ef\",\n",
    "    \"passive_rule_2\" : \"#faa\",\n",
    "    \"passif_sequencé\" : \"afa\",\n",
    "    \"passif_impersonel\":\"#fea\",\n",
    "    \"passive_rule_5\":\"#faa\",\n",
    "    \"passif_verbale\":\"#000080\",\n",
    "    \"passif_factif\" : \"#00FF00\",\n",
    "    \"passif_adjectif\":\"#808080\"   \n",
    "}\n",
    "\n",
    "for token in doc :\n",
    "    for id_, s,e  in passivepy.matcher(doc) :\n",
    "        if not s<token.i<e :\n",
    "            samples.append((token.text))\n",
    "        else :\n",
    "            rule_name = \"test\"#nlp.vocab.strings[id_]\n",
    "            rule_color = \"C\"#color_dict[rule_name]\n",
    "            samples.append((token.text,rule_name, rule_color))\n"
   ]
  },
  {
   "cell_type": "code",
   "execution_count": 50,
   "metadata": {},
   "outputs": [
    {
     "data": {
      "text/plain": [
       "'elle a été déterminée et formée ! La pomme a été mangé par le chat'"
      ]
     },
     "execution_count": 50,
     "metadata": {},
     "output_type": "execute_result"
    }
   ],
   "source": [
    "doc.text"
   ]
  },
  {
   "cell_type": "code",
   "execution_count": null,
   "metadata": {},
   "outputs": [],
   "source": []
  }
 ],
 "metadata": {
  "kernelspec": {
   "display_name": "Python 3.8.10 ('app_passive')",
   "language": "python",
   "name": "python3"
  },
  "language_info": {
   "codemirror_mode": {
    "name": "ipython",
    "version": 3
   },
   "file_extension": ".py",
   "mimetype": "text/x-python",
   "name": "python",
   "nbconvert_exporter": "python",
   "pygments_lexer": "ipython3",
   "version": "3.8.10"
  },
  "orig_nbformat": 4,
  "vscode": {
   "interpreter": {
    "hash": "8e13b7e429d104479b6616cf130de1287aa659b19c5e0239a306aa6256a95f5a"
   }
  }
 },
 "nbformat": 4,
 "nbformat_minor": 2
}
